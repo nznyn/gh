{
 "cells": [
  {
   "cell_type": "code",
   "execution_count": 25,
   "id": "d845db93-d1e7-4e6e-afda-3c15a95e4bac",
   "metadata": {},
   "outputs": [
    {
     "name": "stdout",
     "output_type": "stream",
     "text": [
      "0     registrant_ID    dog_name gender                          breed    dob  \\\n",
      "1         788905773  SHAKESPERE      M  Labrador Retriever Crossbreed  41066   \n",
      "2         788917912     Pickles      F                       Havanese  41376   \n",
      "3         788956064      Butter      M            German Shepherd Dog  41068   \n",
      "4         788974553        pira      F                    Mixed/Other  35584   \n",
      "5         788917962         Max      F              Yorkshire Terrier  41104   \n",
      "...             ...         ...    ...                            ...    ...   \n",
      "80533     788901926       Sadie      M                     Lhasa Apso  41377   \n",
      "80534     788919846        Mila      F                     Lhasa Apso  34854   \n",
      "80535     788978519        Coco      M                    Mixed/Other  41103   \n",
      "80536     788974310        Dash      M                      Shiba Inu  41133   \n",
      "80537     788927516     Charlie      F                    Mixed/Other  41072   \n",
      "\n",
      "0     dominant_color secondary_color zip_code  \n",
      "1              WHITE             TAN    10308  \n",
      "2              WHITE           BLACK    10128  \n",
      "3              BLACK             TAN    10304  \n",
      "4              BLACK            GRAY    11218  \n",
      "5              BLACK           BROWN    11237  \n",
      "...              ...             ...      ...  \n",
      "80533           GOLD           WHITE    11213  \n",
      "80534           GRAY           BLACK    11215  \n",
      "80535          WHITE            NONE    10024  \n",
      "80536            RED           WHITE    10009  \n",
      "80537        BRINDLE            NONE    11385  \n",
      "\n",
      "[80537 rows x 8 columns]\n",
      "80537\n"
     ]
    }
   ],
   "source": [
    "import pandas as pd\n",
    "\n",
    "f = open(\"/Users/nicholasnuzhny/Downloads/new_tricks/registrant_profiles.txt\", \"r\")\n",
    "\n",
    "prepared = []\n",
    "for i in f:\n",
    "    i = i.replace(\"\\n\", \"\")\n",
    "    prepared.append(i.split(\"<^>\"))\n",
    "\n",
    "df = pd.DataFrame(prepared)\n",
    "\n",
    "new_header = df.iloc[0] #grab the first row for the header\n",
    "df = df[1:] #take the data less the header row\n",
    "df.columns = new_header #set the header row as the df header\n",
    "\n",
    "print(df)\n",
    "\n",
    "df.drop_duplicates()\n",
    "print(len(df.index))\n",
    "f.close()\n"
   ]
  },
  {
   "cell_type": "code",
   "execution_count": null,
   "id": "793b6fed-4643-40d6-9499-13f5214f89c7",
   "metadata": {},
   "outputs": [],
   "source": []
  }
 ],
 "metadata": {
  "kernelspec": {
   "display_name": "Python 3",
   "language": "python",
   "name": "python3"
  },
  "language_info": {
   "codemirror_mode": {
    "name": "ipython",
    "version": 3
   },
   "file_extension": ".py",
   "mimetype": "text/x-python",
   "name": "python",
   "nbconvert_exporter": "python",
   "pygments_lexer": "ipython3",
   "version": "3.8.8"
  }
 },
 "nbformat": 4,
 "nbformat_minor": 5
}
